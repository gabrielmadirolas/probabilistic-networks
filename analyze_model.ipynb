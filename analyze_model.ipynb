{
 "cells": [
  {
   "cell_type": "code",
   "execution_count": 1,
   "id": "af4a4735-c4fb-4d76-8e31-64202fca715f",
   "metadata": {},
   "outputs": [],
   "source": [
    "import torch\n",
    "import glob\n",
    "import os"
   ]
  },
  {
   "cell_type": "code",
   "execution_count": 7,
   "id": "ba227e99-28a8-49b7-94be-fa47ceca3c2e",
   "metadata": {},
   "outputs": [
    {
     "name": "stdout",
     "output_type": "stream",
     "text": [
      "['./checkpoints/saved_model_epoch0.pth', './checkpoints/saved_model_epoch100.pth', './checkpoints/saved_model_epoch200.pth', './checkpoints/saved_model_epoch300.pth', './checkpoints/saved_model_epoch400.pth', './checkpoints/saved_model_epoch500.pth', './checkpoints/saved_model_epoch600.pth', './checkpoints/saved_model_epoch700.pth', './checkpoints/saved_model_epoch800.pth', './checkpoints/saved_model_epoch900.pth', './checkpoints/saved_model_epoch1000.pth', './checkpoints/saved_model_epoch1100.pth', './checkpoints/saved_model_epoch1200.pth', './checkpoints/saved_model_epoch1300.pth', './checkpoints/saved_model_epoch1400.pth', './checkpoints/saved_model_epoch1500.pth', './checkpoints/saved_model_epoch1600.pth', './checkpoints/saved_model_epoch1700.pth', './checkpoints/saved_model_epoch1800.pth', './checkpoints/saved_model_epoch1900.pth', './checkpoints/saved_model_epoch2000.pth', './checkpoints/saved_model_epoch2100.pth', './checkpoints/saved_model_epoch2200.pth', './checkpoints/saved_model_epoch2300.pth', './checkpoints/saved_model_epoch2400.pth', './checkpoints/saved_model_epoch2500.pth', './checkpoints/saved_model_epoch2600.pth', './checkpoints/saved_model_epoch2700.pth', './checkpoints/saved_model_epoch2800.pth', './checkpoints/saved_model_epoch2900.pth', './checkpoints/saved_model_epoch3000.pth', './checkpoints/saved_model_epoch3100.pth', './checkpoints/saved_model_epoch3200.pth', './checkpoints/saved_model_epoch3300.pth', './checkpoints/saved_model_epoch3400.pth', './checkpoints/saved_model_epoch3500.pth', './checkpoints/saved_model_epoch3600.pth', './checkpoints/saved_model_epoch3700.pth', './checkpoints/saved_model_epoch3800.pth', './checkpoints/saved_model_epoch3900.pth', './checkpoints/saved_model_epoch4000.pth', './checkpoints/saved_model_epoch4100.pth', './checkpoints/saved_model_epoch4200.pth', './checkpoints/saved_model_epoch4300.pth', './checkpoints/saved_model_epoch4400.pth', './checkpoints/saved_model_epoch4500.pth', './checkpoints/saved_model_epoch4600.pth', './checkpoints/saved_model_epoch4700.pth', './checkpoints/saved_model_epoch4800.pth', './checkpoints/saved_model_epoch4900.pth', './checkpoints/saved_model_epoch5000.pth']\n"
     ]
    }
   ],
   "source": [
    "saved_models_path = './checkpoints/saved_model_epoch'\n",
    "models_list = glob.glob(saved_models_path+'*')\n",
    "models_list.sort(key=os.path.getmtime)\n",
    "print(models_list)"
   ]
  },
  {
   "cell_type": "code",
   "execution_count": 8,
   "id": "43d1a655-5423-4993-a32c-eb459031f2c4",
   "metadata": {},
   "outputs": [
    {
     "name": "stdout",
     "output_type": "stream",
     "text": [
      "tensor(0.5269, device='cuda:0')\n",
      "tensor(0.5294, device='cuda:0')\n",
      "tensor(0.5310, device='cuda:0')\n",
      "tensor(0.5297, device='cuda:0')\n",
      "tensor(0.5297, device='cuda:0')\n",
      "tensor(0.5297, device='cuda:0')\n",
      "tensor(0.5298, device='cuda:0')\n",
      "tensor(0.5306, device='cuda:0')\n",
      "tensor(0.5290, device='cuda:0')\n",
      "tensor(0.5290, device='cuda:0')\n",
      "tensor(0.5290, device='cuda:0')\n",
      "tensor(0.5290, device='cuda:0')\n",
      "tensor(0.5290, device='cuda:0')\n",
      "tensor(0.5290, device='cuda:0')\n",
      "tensor(0.5290, device='cuda:0')\n",
      "tensor(0.5290, device='cuda:0')\n",
      "tensor(0.5290, device='cuda:0')\n",
      "tensor(0.5290, device='cuda:0')\n",
      "tensor(0.5290, device='cuda:0')\n",
      "tensor(0.5290, device='cuda:0')\n",
      "tensor(0.5290, device='cuda:0')\n",
      "tensor(0.5290, device='cuda:0')\n",
      "tensor(0.5290, device='cuda:0')\n",
      "tensor(0.5290, device='cuda:0')\n",
      "tensor(0.5290, device='cuda:0')\n",
      "tensor(0.5310, device='cuda:0')\n",
      "tensor(0.5310, device='cuda:0')\n",
      "tensor(0.5310, device='cuda:0')\n",
      "tensor(0.5310, device='cuda:0')\n",
      "tensor(0.5310, device='cuda:0')\n",
      "tensor(0.5310, device='cuda:0')\n",
      "tensor(0.5310, device='cuda:0')\n",
      "tensor(0.5310, device='cuda:0')\n",
      "tensor(0.5310, device='cuda:0')\n",
      "tensor(0.5310, device='cuda:0')\n",
      "tensor(0.5310, device='cuda:0')\n",
      "tensor(0.5310, device='cuda:0')\n",
      "tensor(0.5310, device='cuda:0')\n",
      "tensor(0.5310, device='cuda:0')\n",
      "tensor(0.5310, device='cuda:0')\n",
      "tensor(0.5310, device='cuda:0')\n",
      "tensor(0.5310, device='cuda:0')\n",
      "tensor(0.5310, device='cuda:0')\n",
      "tensor(0.5310, device='cuda:0')\n",
      "tensor(0.5310, device='cuda:0')\n",
      "tensor(0.5310, device='cuda:0')\n",
      "tensor(0.5310, device='cuda:0')\n",
      "tensor(0.5310, device='cuda:0')\n",
      "tensor(0.5310, device='cuda:0')\n",
      "tensor(0.5310, device='cuda:0')\n",
      "tensor(0.5310, device='cuda:0')\n"
     ]
    }
   ],
   "source": [
    "for model in models_list:\n",
    "    model = torch.load(model)\n",
    "    print(model['lstm.layers.0.cell.sigma.sigma'].mean())"
   ]
  },
  {
   "cell_type": "code",
   "execution_count": 4,
   "id": "012e9535-a608-4e6a-9b87-8872ded59fa5",
   "metadata": {},
   "outputs": [
    {
     "name": "stdout",
     "output_type": "stream",
     "text": [
      "lstm.layers.0.cell.weight_ih\n",
      "lstm.layers.0.cell.weight_hh\n",
      "lstm.layers.0.cell.bias_ih\n",
      "lstm.layers.0.cell.bias_hh\n",
      "lstm.layers.0.cell.sigma.sigma\n",
      "linear.weight\n",
      "linear.bias\n"
     ]
    }
   ],
   "source": [
    "for key in model.keys():\n",
    "    print(key)"
   ]
  },
  {
   "cell_type": "code",
   "execution_count": null,
   "id": "74dc91e3-b9c4-4de9-8d04-4eec87b9021d",
   "metadata": {},
   "outputs": [],
   "source": []
  }
 ],
 "metadata": {
  "kernelspec": {
   "display_name": "Python 3 (ipykernel)",
   "language": "python",
   "name": "python3"
  },
  "language_info": {
   "codemirror_mode": {
    "name": "ipython",
    "version": 3
   },
   "file_extension": ".py",
   "mimetype": "text/x-python",
   "name": "python",
   "nbconvert_exporter": "python",
   "pygments_lexer": "ipython3",
   "version": "3.12.3"
  }
 },
 "nbformat": 4,
 "nbformat_minor": 5
}
