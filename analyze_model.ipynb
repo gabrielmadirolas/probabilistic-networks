{
 "cells": [
  {
   "cell_type": "code",
   "execution_count": 1,
   "id": "af4a4735-c4fb-4d76-8e31-64202fca715f",
   "metadata": {},
   "outputs": [],
   "source": [
    "import torch\n",
    "import glob\n",
    "import os"
   ]
  },
  {
   "cell_type": "code",
   "execution_count": 31,
   "id": "ba227e99-28a8-49b7-94be-fa47ceca3c2e",
   "metadata": {},
   "outputs": [
    {
     "name": "stdout",
     "output_type": "stream",
     "text": [
      "['./checkpoints/saved_model_epoch0.pth', './checkpoints/saved_model_epoch100.pth']\n"
     ]
    }
   ],
   "source": [
    "saved_models_path = './checkpoints/saved_model_epoch'\n",
    "models_list = glob.glob(saved_models_path+'*')\n",
    "models_list.sort(key=os.path.getmtime)\n",
    "print(models_list)"
   ]
  },
  {
   "cell_type": "code",
   "execution_count": 42,
   "id": "43d1a655-5423-4993-a32c-eb459031f2c4",
   "metadata": {},
   "outputs": [
    {
     "name": "stdout",
     "output_type": "stream",
     "text": [
      "tensor([-0.0970, -0.0083,  0.0431,  0.0008, -0.1135], device='cuda:0')\n",
      "tensor([-0.0818], device='cuda:0')\n",
      "tensor([-9.6985e-02,  1.1690e+00,  4.3278e-02,  8.1026e-04, -1.1354e-01],\n",
      "       device='cuda:0')\n",
      "tensor([1.0956], device='cuda:0')\n"
     ]
    }
   ],
   "source": [
    "for model in models_list:\n",
    "    model = torch.load(model)\n",
    "    print(model['linear.weight'][0][:5])\n",
    "    print(model['linear.bias'])"
   ]
  },
  {
   "cell_type": "code",
   "execution_count": 46,
   "id": "f242df69-131e-4776-8304-a299a6dbed9f",
   "metadata": {},
   "outputs": [
    {
     "name": "stdout",
     "output_type": "stream",
     "text": [
      "torch.Size([200, 50])\n",
      "tensor([-1.0262,  0.2853,  0.3087, -0.5944,  0.2000], device='cuda:0')\n",
      "torch.Size([200, 50])\n",
      "tensor([-1.0262,  0.2853,  0.3087, -0.5944,  0.2000], device='cuda:0')\n"
     ]
    }
   ],
   "source": [
    "for model in models_list:\n",
    "    model = torch.load(model)\n",
    "    print(model['lstm.layers.0.cell.weight_hh'].shape)\n",
    "    print(model['lstm.layers.0.cell.bias_hh'][:5])"
   ]
  },
  {
   "cell_type": "code",
   "execution_count": null,
   "id": "2382eac9-38d7-426a-b09a-5745b5474a47",
   "metadata": {},
   "outputs": [],
   "source": [
    "for model in models_list:\n",
    "    model = torch.load(model)\n",
    "    print(model['lstm.layers.0.cell.weight_ih'][0][:5])\n",
    "    print(model['lstm.layers.0.cell.bias_ih'][:5])"
   ]
  },
  {
   "cell_type": "code",
   "execution_count": null,
   "id": "4ce97c6a-86ef-4547-a4a6-bc7b790bd31d",
   "metadata": {},
   "outputs": [],
   "source": [
    "for model in models_list:\n",
    "    model = torch.load(model)\n",
    "    print(model['lstm.layers.0.cell.sigma.sigma'].mean())\n",
    "    print(model['lstm.layers.0.cell.sigma.sigma'][:5])"
   ]
  },
  {
   "cell_type": "code",
   "execution_count": 4,
   "id": "012e9535-a608-4e6a-9b87-8872ded59fa5",
   "metadata": {},
   "outputs": [
    {
     "name": "stdout",
     "output_type": "stream",
     "text": [
      "lstm.layers.0.cell.weight_ih\n",
      "lstm.layers.0.cell.weight_hh\n",
      "lstm.layers.0.cell.bias_ih\n",
      "lstm.layers.0.cell.bias_hh\n",
      "lstm.layers.0.cell.sigma.sigma\n",
      "linear.weight\n",
      "linear.bias\n"
     ]
    }
   ],
   "source": [
    "for key in model.keys():\n",
    "    print(key)"
   ]
  },
  {
   "cell_type": "code",
   "execution_count": null,
   "id": "74dc91e3-b9c4-4de9-8d04-4eec87b9021d",
   "metadata": {},
   "outputs": [],
   "source": []
  }
 ],
 "metadata": {
  "kernelspec": {
   "display_name": "Python 3 (ipykernel)",
   "language": "python",
   "name": "python3"
  },
  "language_info": {
   "codemirror_mode": {
    "name": "ipython",
    "version": 3
   },
   "file_extension": ".py",
   "mimetype": "text/x-python",
   "name": "python",
   "nbconvert_exporter": "python",
   "pygments_lexer": "ipython3",
   "version": "3.12.3"
  }
 },
 "nbformat": 4,
 "nbformat_minor": 5
}
