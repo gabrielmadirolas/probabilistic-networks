{
 "cells": [
  {
   "cell_type": "code",
   "execution_count": 1,
   "id": "af4a4735-c4fb-4d76-8e31-64202fca715f",
   "metadata": {},
   "outputs": [],
   "source": [
    "import torch"
   ]
  },
  {
   "cell_type": "code",
   "execution_count": 26,
   "id": "75852f11-dc20-4091-b46f-451dc1dbc086",
   "metadata": {},
   "outputs": [],
   "source": [
    "saved_model_path = './checkpoints/saved_model.pth'\n",
    "model = torch.load(saved_model_path)"
   ]
  },
  {
   "cell_type": "code",
   "execution_count": 27,
   "id": "012e9535-a608-4e6a-9b87-8872ded59fa5",
   "metadata": {},
   "outputs": [
    {
     "name": "stdout",
     "output_type": "stream",
     "text": [
      "lstm.layers.0.cell.weight_ih\n",
      "lstm.layers.0.cell.weight_hh\n",
      "lstm.layers.0.cell.bias_ih\n",
      "lstm.layers.0.cell.bias_hh\n",
      "lstm.layers.0.cell.sigma.sigma\n",
      "linear.weight\n",
      "linear.bias\n"
     ]
    }
   ],
   "source": [
    "for key in model.keys():\n",
    "    print(key)"
   ]
  },
  {
   "cell_type": "code",
   "execution_count": 28,
   "id": "e704df42-a9e4-46c4-a336-0c2c503f7372",
   "metadata": {},
   "outputs": [
    {
     "name": "stdout",
     "output_type": "stream",
     "text": [
      "tensor(-0.0189, device='cuda:0')\n"
     ]
    }
   ],
   "source": [
    "print(model['lstm.layers.0.cell.sigma.sigma'].mean())"
   ]
  },
  {
   "cell_type": "code",
   "execution_count": null,
   "id": "74dc91e3-b9c4-4de9-8d04-4eec87b9021d",
   "metadata": {},
   "outputs": [],
   "source": []
  }
 ],
 "metadata": {
  "kernelspec": {
   "display_name": "Python 3 (ipykernel)",
   "language": "python",
   "name": "python3"
  },
  "language_info": {
   "codemirror_mode": {
    "name": "ipython",
    "version": 3
   },
   "file_extension": ".py",
   "mimetype": "text/x-python",
   "name": "python",
   "nbconvert_exporter": "python",
   "pygments_lexer": "ipython3",
   "version": "3.12.3"
  }
 },
 "nbformat": 4,
 "nbformat_minor": 5
}
